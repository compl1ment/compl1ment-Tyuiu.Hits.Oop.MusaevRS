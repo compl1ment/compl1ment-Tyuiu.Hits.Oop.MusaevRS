{
 "cells": [
  {
   "cell_type": "markdown",
   "metadata": {},
   "source": [
    "<h1 style=\"color:DodgerBlue\">Индивидальный проект</h1>"
   ]
  },
  {
   "cell_type": "markdown",
   "metadata": {},
   "source": [
    "<h2 style=\"color:DodgerBlue\">Название проекта:</h2>\n",
    "\n",
    "----\n",
    "\n",
    "### Вариант задания \n"
   ]
  },
  {
   "cell_type": "markdown",
   "metadata": {},
   "source": [
    "<h2 style=\"color:DodgerBlue\">Описание проекта:</h2>\n",
    "\n",
    "----\n",
    "\n",
    "[ваш текст]\n"
   ]
  },
  {
   "cell_type": "markdown",
   "metadata": {},
   "source": [
    "<h2 style=\"color:DodgerBlue\">Реализация:</h2>\n",
    "\n",
    "----"
   ]
  },
  {
   "cell_type": "code",
   "execution_count": 2,
   "metadata": {
    "dotnet_interactive": {
     "language": "csharp"
    },
    "polyglot_notebook": {
     "kernelName": "csharp"
    }
   },
   "outputs": [],
   "source": [
    "class Review // Создаем класс Review\n",
    "{\n",
    "    private int reviewId; // Создаем в классе Review свойства reviewId text rating ReviewId\n",
    "    private string text; \n",
    "    private int rating;\n",
    "    public int ReviewId // Создаем свойства с геттером и сеттером\n",
    "    {\n",
    "        get {return reviewId;} \n",
    "        set {reviewId = value;}\n",
    "    }\n",
    "    public string Text\n",
    "    {\n",
    "        get {return text;}\n",
    "        set {text = value;}\n",
    "    }\n",
    "    public int Rating\n",
    "    {\n",
    "        get {return rating;}\n",
    "        set {rating = value;}\n",
    "    }\n",
    "\n",
    "    public virtual void DisplayReview() // Создаем публичные методы, которые даны в варианте\n",
    "    {\n",
    "        Console.WriteLine(\"Отзыв покупателя: \" + Text);\n",
    "    }\n",
    "    public virtual void RateProduct()\n",
    "    {\n",
    "        Console.WriteLine(\"Рейтинг продукта: \" + Rating);\n",
    "    }\n",
    "    public virtual void GetReviewDetails()\n",
    "    {\n",
    "        Console.WriteLine(\"ID покупателя: \" + ReviewId);\n",
    "    }\n",
    "}\n",
    "\n",
    "class ServiceMaintenance : Review // Создаем класс на основе Review. Это позволяет наследовать его свойства и методы\n",
    "{\n",
    "    private string startTime;\n",
    "    public string StartTime\n",
    "    {\n",
    "        get {return startTime;}\n",
    "        set {startTime = value;}\n",
    "\n",
    "    }\n",
    "    private string visitDate;\n",
    "    public string VisitDate\n",
    "    {\n",
    "        get {return visitDate;}\n",
    "        set {visitDate = value;}\n",
    "\n",
    "    }\n",
    "    public override void DisplayReview() // Добавляем метод, необходимый для класса ServiceMaintenance, используя полиморфизм\n",
    "    {\n",
    "        Console.WriteLine(\"Отзыв покупателя:\" + Text + \".\" + \" Услуга была оказана: \" + VisitDate);\n",
    "    }\n",
    "}\n",
    "\n",
    "class ProductReview : Review\n",
    "{\n",
    "    private int productId;\n",
    "    public int ProductId\n",
    "    {\n",
    "        get {return productId;}\n",
    "        set {productId = value;}\n",
    "    }\n",
    "    public override void RateProduct()\n",
    "    {\n",
    "        Console.WriteLine(\"Рейтинг продукта №\" + ProductId + \": \"+ Rating); // Добавляем метод, необходимый для класса ProductReview, используя полиморфизм\n",
    "    }\n",
    "}\n",
    "\n",
    "class ServiceReview : Review\n",
    "{\n",
    "    private string startTime;\n",
    "    public string StartTime\n",
    "    {\n",
    "        get {return startTime;}\n",
    "        set {startTime = value;}\n",
    "\n",
    "    }\n",
    "    private string visitDate;\n",
    "    public string VisitDate\n",
    "    {\n",
    "        get {return visitDate;}\n",
    "        set {visitDate = value;}\n",
    "\n",
    "    }\n",
    "    public override void DisplayReview() \n",
    "    {\n",
    "        Console.WriteLine(\"Отзыв покупателя:\" + Text + \".\");\n",
    "        Console.WriteLine(\"Услуга была оказана: \" + VisitDate + \". Время начала услуги: \"+startTime); // Добавляем метод, необходимый для класса ServiceReview, используя полиморфизм\n",
    "    }\n",
    "}\n",
    "\n",
    "\n",
    "Review review = new Review(); // Создаем объекты\n",
    "ServiceMaintenance serviceMaintenance = new ServiceMaintenance();\n",
    "ProductReview productReview = new ProductReview();\n",
    "ServiceReview serviceReview = new ServiceReview();\n",
    "\n",
    "\n",
    "Console.WriteLine(\"-------------------------------------------------------------------------------------\");\n",
    "review.ReviewId = 1; \n",
    "review.Text = \"Обслуживание на высоте! 5/5\";\n",
    "review.Rating = 5;\n",
    "review.DisplayReview();\n",
    "review.RateProduct();\n",
    "review.GetReviewDetails();\n",
    "Console.WriteLine(\"-------------------------------------------------------------------------------------\");\n",
    "\n",
    "serviceMaintenance.ReviewId = 2;\n",
    "serviceMaintenance.Text = \" Очень хорошо\";\n",
    "serviceMaintenance.Rating = 6;\n",
    "serviceMaintenance.VisitDate = \"12.06.2005\";\n",
    "serviceMaintenance.DisplayReview();\n",
    "serviceMaintenance.RateProduct();\n",
    "serviceMaintenance.GetReviewDetails();\n",
    "Console.WriteLine(\"-------------------------------------------------------------------------------------\");\n",
    "\n",
    "\n",
    "productReview.ReviewId = 3;\n",
    "productReview.Text = \"Сломался при использовании\";\n",
    "productReview.Rating = 5;\n",
    "productReview.ProductId = 345;\n",
    "serviceMaintenance.VisitDate = \"13.06.2005\";\n",
    "productReview.DisplayReview();\n",
    "productReview.RateProduct();\n",
    "productReview.GetReviewDetails();\n",
    "Console.WriteLine(\"-------------------------------------------------------------------------------------\");\n",
    "\n",
    "serviceReview.ReviewId = 4;\n",
    "serviceReview.Text = \" OK\";\n",
    "serviceReview.Rating = 6;\n",
    "serviceReview.VisitDate = \"12.06.2006\";\n",
    "serviceReview.StartTime = \"14:10\";\n",
    "serviceReview.DisplayReview();\n",
    "serviceReview.RateProduct();\n",
    "serviceReview.GetReviewDetails();\n",
    "Console.WriteLine(\"-------------------------------------------------------------------------------------\");"
   ]
  }
 ],
 "metadata": {
  "kernelspec": {
   "display_name": ".NET (C#)",
   "language": "C#",
   "name": ".net-csharp"
  },
  "polyglot_notebook": {
   "kernelInfo": {
    "defaultKernelName": "csharp",
    "items": [
     {
      "aliases": [],
      "languageName": "csharp",
      "name": "csharp"
     }
    ]
   }
  }
 },
 "nbformat": 4,
 "nbformat_minor": 2
}
