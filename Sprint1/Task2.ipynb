{
 "cells": [
  {
   "cell_type": "markdown",
   "metadata": {},
   "source": [
    "<h1 style=\"color:DodgerBlue\">Создание экземпляров классов (объектов) и взаимодействие объектов между собой</h1>"
   ]
  },
  {
   "cell_type": "markdown",
   "metadata": {},
   "source": [
    "### Создание экземпляров классов (объектов)\n",
    "\n",
    "В C#, экземпляр класса создается с помощью оператора `new`, который выделяет память для нового объекта и вызывает конструктор класса для инициализации этого объекта. Конструктор — это специальный метод в классе, который имеет то же имя, что и класс, и используется для установки начального состояния объекта.\n",
    "\n",
    "#### Пример создания экземпляров классов Vehicle и Car\n",
    "\n",
    "```csharp\n",
    "Vehicle myVehicle = new Vehicle();\n",
    "Car myCar = new Car();\n",
    "```\n",
    "\n",
    "В этом примере создаются два объекта: один для класса `Vehicle` и другой для класса `Car`. Конструкторы этих классов будут автоматически вызваны при создании объектов.\n",
    "\n",
    "### Взаимодействие объектов между Собой\n",
    "\n",
    "Взаимодействие объектов между собой означает, что один объект может вызывать методы другого объекта или обращаться к его свойствам (если они доступны). Это позволяет объектам обмениваться информацией и координировать свои действия.\n",
    "\n",
    "#### Пример взаимодействия объектов\n",
    "\n",
    "```csharp\n",
    "myVehicle.Color = \"Red\";\n",
    "myVehicle.Speed = 60;\n",
    "\n",
    "myCar.Color = \"Blue\";\n",
    "myCar.FuelLevel = 100;\n",
    "myCar.Refuel(50); // Увеличиваем уровень топлива на 50\n",
    "```\n",
    "\n",
    "В этом примере мы устанавливаем свойства `Color` и `Speed` для объекта `myVehicle`, а также свойства `Color` и `FuelLevel` для объекта `myCar`. Затем мы вызываем метод `Refuel` у объекта `myCar`, чтобы увеличить его уровень топлива.\n",
    "\n",
    "### Закрепление правил использования модификаторов доступа\n",
    "\n",
    "Модификаторы доступа определяют уровень доступности членов класса из других частей кода. Важно правильно использовать модификаторы доступа для обеспечения безопасности и инкапсуляции данных.\n",
    "\n",
    "#### Примеры модификаторов доступа в классах Vehicle и Car\n",
    "\n",
    "```csharp\n",
    "public class Vehicle\n",
    "{\n",
    "    public string Color { get; set; } // public свойство\n",
    "    private int speed; // private поле\n",
    "\n",
    "    protected void SetSpeed(int value) // protected метод\n",
    "    {\n",
    "        speed = value;\n",
    "    }\n",
    "}\n",
    "\n",
    "public class Car : Vehicle\n",
    "{\n",
    "    private int fuelLevel; // private поле\n",
    "\n",
    "    public void Refuel(int amount) // public метод\n",
    "    {\n",
    "        fuelLevel += amount;\n",
    "    }\n",
    "\n",
    "    protected void CheckSpeedLimit() // protected метод\n",
    "    {\n",
    "        if (speed > 120)\n",
    "        {\n",
    "            Console.WriteLine(\"Превышен скоростной режим!\");\n",
    "        }\n",
    "    }\n",
    "}\n",
    "```\n",
    "\n",
    "В этом примере:\n",
    "- Свойство `Color` в классе `Vehicle` объявлено как `public`, что позволяет доступ к нему из любого места в коде.\n",
    "- Поле `speed` в классе `Vehicle` объявлено как `private`, что ограничивает доступ к нему только внутри класса `Vehicle`.\n",
    "- Метод `SetSpeed` в классе `Vehicle` объявлен как `protected`, что позволяет доступ к нему из класса `Vehicle` и его производных классов.\n",
    "- Поле `fuelLevel` в классе `Car` объявлено как `private`, ограничивая доступ к нему только внутри класса `Car`.\n",
    "- Методы `Refuel` и `CheckSpeedLimit` в классе `Car` демонстрируют использование модификаторов доступа для контроля над тем, как объекты могут взаимодействовать друг с другом.\n",
    "\n",
    "### Заключение\n",
    "\n",
    "Создание экземпляров классов и взаимодействие между объектами являются ключевыми аспектами объектно-ориентированного программирования в C#. Правильное использование модификаторов доступа обеспечивает безопасность данных и инкапсуляцию, позволяя разработчикам создавать более надежные и управляемые программы."
   ]
  },
  {
   "cell_type": "markdown",
   "metadata": {},
   "source": [
    "<h4 style=\"color:DodgerBlue\">Для проверки напишите пример кода на основе классов Car и Vehicle ниже в блоке:</h4>\n",
    "\n",
    "----"
   ]
  },
  {
   "cell_type": "code",
   "execution_count": null,
   "metadata": {
    "dotnet_interactive": {
     "language": "csharp"
    },
    "polyglot_notebook": {
     "kernelName": "csharp"
    }
   },
   "outputs": [
    {
     "name": "stdout",
     "output_type": "stream",
     "text": [
      "Превышен скоростной режим!\r\n"
     ]
    }
   ],
   "source": [
    "public class Vehicle\n",
    "{\n",
    "    public string Color;\n",
    "    public int speed;\n",
    "    protected void SetSpeed(int value)\n",
    "    {\n",
    "        speed=value;\n",
    "    }\n",
    "}\n",
    "\n",
    "public class Car : Vehicle\n",
    "{\n",
    "    private int addSpeed;\n",
    "    public void AddSpeed(int amount)\n",
    "    {\n",
    "        speed+=amount;\n",
    "    }\n",
    "    public void CheckSpeedLimit()\n",
    "    {\n",
    "        if (speed>120)\n",
    "        {\n",
    "            Console.WriteLine(\"Превышен скоростной режим!\");\n",
    "        }\n",
    "        else\n",
    "        {\n",
    "            Console.WriteLine(\"Скорость не превышена.\");\n",
    "        }\n",
    "\n",
    "    }\n",
    "}\n",
    "\n",
    "Car myCar = new Car();\n",
    "myCar.Color = \"Оранжевый\";\n",
    "myCar.speed=60;\n",
    "myCar.AddSpeed(100);\n",
    "myCar.CheckSpeedLimit();"
   ]
  },
  {
   "cell_type": "markdown",
   "metadata": {},
   "source": [
    "<h4 style=\"color:Red\">Задание:</h4>\n",
    "\n",
    "----\n",
    "\n",
    "Ниже в блоке по примеру создайте базовый класс Animal и производные классы (2-3 например Dog, Cat и так далее) реализуйте структуру и объявление класса, включая свойства, геттеры и сеттеры, а также статические и обычными атрибуты и метода класса с реализацией взаимодействия между объектами."
   ]
  },
  {
   "cell_type": "code",
   "execution_count": null,
   "metadata": {
    "dotnet_interactive": {
     "language": "csharp"
    },
    "polyglot_notebook": {
     "kernelName": "csharp"
    }
   },
   "outputs": [
    {
     "name": "stdout",
     "output_type": "stream",
     "text": [
      "Беляш - 5 месяцев.\n",
      "Беляш мурлычит\n",
      "Белка - 2 года.\n",
      "Белка бежит за палкой\n",
      "Немо - 1 месяца.\n",
      "Немо ест корм для рыб\n"
     ]
    }
   ],
   "source": [
    "public class Animal\n",
    "{\n",
    "    public string Name { get; set; }\n",
    "    public int Age { get; set; }\n",
    "    \n",
    "    private static int count = 0;\n",
    "    public static int Count \n",
    "    {\n",
    "        get { return count; }\n",
    "    }\n",
    "\n",
    "    public Animal(string name, int age)\n",
    "    {\n",
    "        Name = name;\n",
    "        Age = age;\n",
    "        count++;\n",
    "    }\n",
    "\n",
    "    public virtual void Voice()\n",
    "    {\n",
    "        Console.WriteLine($\"{Name} говорит\");\n",
    "    }\n",
    "}\n",
    "\n",
    "public class Cat : Animal\n",
    "{\n",
    "    public Cat(string name, int age) : base(name, age) {}\n",
    "\n",
    "    public void Purr()\n",
    "    {\n",
    "        Console.WriteLine($\"{Name} мурлычит\");\n",
    "    }\n",
    "}\n",
    "\n",
    "public class Dog : Animal\n",
    "{\n",
    "    public Dog(string name, int age) : base(name, age) {}\n",
    "\n",
    "    public void Playing()\n",
    "    {\n",
    "        Console.WriteLine($\"{Name} бежит за палкой\");\n",
    "    }\n",
    "}\n",
    "\n",
    "public class Fish : Animal\n",
    "{\n",
    "    public Fish(string name, int age) : base(name, age) {}\n",
    "\n",
    "    public void Eating()\n",
    "    {\n",
    "        Console.WriteLine($\"{Name} ест корм для рыб\");\n",
    "    }\n",
    "}\n",
    "\n",
    "Cat cat = new Cat(\"Беляш\", 5);\n",
    "Dog dog = new Dog(\"Белка\", 2);\n",
    "Fish fish = new Fish(\"Немо\", 1);\n",
    "\n",
    "Console.WriteLine($\"{cat.Name} - {cat.Age} месяцев.\");\n",
    "cat.Purr();\n",
    "Console.WriteLine();\n",
    "Console.WriteLine($\"{dog.Name} - {dog.Age} года.\");\n",
    "dog.Playing();\n",
    "Console.WriteLine();\n",
    "Console.WriteLine($\"{fish.Name} - {fish.Age} месяца.\");\n",
    "fish.Eating();"
   ]
  }
 ],
 "metadata": {
  "kernelspec": {
   "display_name": ".NET (C#)",
   "language": "C#",
   "name": ".net-csharp"
  },
  "polyglot_notebook": {
   "kernelInfo": {
    "defaultKernelName": "csharp",
    "items": [
     {
      "aliases": [],
      "languageName": "csharp",
      "name": "csharp"
     }
    ]
   }
  }
 },
 "nbformat": 4,
 "nbformat_minor": 2
}
